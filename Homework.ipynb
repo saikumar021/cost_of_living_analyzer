{
 "cells": [
  {
   "cell_type": "code",
   "execution_count": 1,
   "metadata": {},
   "outputs": [],
   "source": [
    "import numpy as np\n",
    "import pandas as pd\n",
    "\n",
    "import seaborn as sns\n",
    "import matplotlib.pyplot as plt"
   ]
  },
  {
   "cell_type": "code",
   "execution_count": 3,
   "metadata": {},
   "outputs": [
    {
     "data": {
      "text/plain": [
       "(216, 7)"
      ]
     },
     "execution_count": 3,
     "metadata": {},
     "output_type": "execute_result"
    }
   ],
   "source": [
    "# reading the Dataset\n",
    "\n",
    "data = pd.read_csv('movehubcostofliving.csv')\n",
    "data.shape"
   ]
  },
  {
   "cell_type": "code",
   "execution_count": 4,
   "metadata": {},
   "outputs": [
    {
     "data": {
      "text/html": [
       "<div>\n",
       "<style scoped>\n",
       "    .dataframe tbody tr th:only-of-type {\n",
       "        vertical-align: middle;\n",
       "    }\n",
       "\n",
       "    .dataframe tbody tr th {\n",
       "        vertical-align: top;\n",
       "    }\n",
       "\n",
       "    .dataframe thead th {\n",
       "        text-align: right;\n",
       "    }\n",
       "</style>\n",
       "<table border=\"1\" class=\"dataframe\">\n",
       "  <thead>\n",
       "    <tr style=\"text-align: right;\">\n",
       "      <th></th>\n",
       "      <th>City</th>\n",
       "      <th>Cappuccino</th>\n",
       "      <th>Cinema</th>\n",
       "      <th>Wine</th>\n",
       "      <th>Gasoline</th>\n",
       "      <th>Avg Rent</th>\n",
       "      <th>Avg Disposable Income</th>\n",
       "    </tr>\n",
       "  </thead>\n",
       "  <tbody>\n",
       "    <tr>\n",
       "      <th>0</th>\n",
       "      <td>Lausanne</td>\n",
       "      <td>3.15</td>\n",
       "      <td>12.59</td>\n",
       "      <td>8.40</td>\n",
       "      <td>1.32</td>\n",
       "      <td>1714.00</td>\n",
       "      <td>4266.11</td>\n",
       "    </tr>\n",
       "    <tr>\n",
       "      <th>1</th>\n",
       "      <td>Zurich</td>\n",
       "      <td>3.28</td>\n",
       "      <td>12.59</td>\n",
       "      <td>8.40</td>\n",
       "      <td>1.31</td>\n",
       "      <td>2378.61</td>\n",
       "      <td>4197.55</td>\n",
       "    </tr>\n",
       "    <tr>\n",
       "      <th>2</th>\n",
       "      <td>Geneva</td>\n",
       "      <td>2.80</td>\n",
       "      <td>12.94</td>\n",
       "      <td>10.49</td>\n",
       "      <td>1.28</td>\n",
       "      <td>2607.95</td>\n",
       "      <td>3917.72</td>\n",
       "    </tr>\n",
       "    <tr>\n",
       "      <th>3</th>\n",
       "      <td>Basel</td>\n",
       "      <td>3.50</td>\n",
       "      <td>11.89</td>\n",
       "      <td>7.35</td>\n",
       "      <td>1.25</td>\n",
       "      <td>1649.29</td>\n",
       "      <td>3847.76</td>\n",
       "    </tr>\n",
       "    <tr>\n",
       "      <th>4</th>\n",
       "      <td>Perth</td>\n",
       "      <td>2.87</td>\n",
       "      <td>11.43</td>\n",
       "      <td>10.08</td>\n",
       "      <td>0.97</td>\n",
       "      <td>2083.14</td>\n",
       "      <td>3358.55</td>\n",
       "    </tr>\n",
       "  </tbody>\n",
       "</table>\n",
       "</div>"
      ],
      "text/plain": [
       "       City  Cappuccino  Cinema   Wine  Gasoline  Avg Rent  \\\n",
       "0  Lausanne        3.15   12.59   8.40      1.32   1714.00   \n",
       "1    Zurich        3.28   12.59   8.40      1.31   2378.61   \n",
       "2    Geneva        2.80   12.94  10.49      1.28   2607.95   \n",
       "3     Basel        3.50   11.89   7.35      1.25   1649.29   \n",
       "4     Perth        2.87   11.43  10.08      0.97   2083.14   \n",
       "\n",
       "   Avg Disposable Income  \n",
       "0                4266.11  \n",
       "1                4197.55  \n",
       "2                3917.72  \n",
       "3                3847.76  \n",
       "4                3358.55  "
      ]
     },
     "execution_count": 4,
     "metadata": {},
     "output_type": "execute_result"
    }
   ],
   "source": [
    "# lets check the Head of the Data\n",
    "data.head()"
   ]
  },
  {
   "cell_type": "markdown",
   "metadata": {},
   "source": [
    "### Find out the Places where Cappuccino is Least and Most Expensive"
   ]
  },
  {
   "cell_type": "code",
   "execution_count": null,
   "metadata": {},
   "outputs": [],
   "source": []
  },
  {
   "cell_type": "markdown",
   "metadata": {},
   "source": [
    "### Find out the Places where Cinema is Least and Most Expensive"
   ]
  },
  {
   "cell_type": "code",
   "execution_count": null,
   "metadata": {},
   "outputs": [],
   "source": []
  },
  {
   "cell_type": "markdown",
   "metadata": {},
   "source": [
    "### Find out the Places where Wine is Least and Most Expensive"
   ]
  },
  {
   "cell_type": "code",
   "execution_count": null,
   "metadata": {},
   "outputs": [],
   "source": []
  },
  {
   "cell_type": "markdown",
   "metadata": {},
   "source": [
    "### Find out the Places where Gasoline is Least and Most Expensive"
   ]
  },
  {
   "cell_type": "code",
   "execution_count": null,
   "metadata": {},
   "outputs": [],
   "source": []
  },
  {
   "cell_type": "markdown",
   "metadata": {},
   "source": [
    "### Find out the Places where Rent is Least and Most Expensive"
   ]
  },
  {
   "cell_type": "code",
   "execution_count": null,
   "metadata": {},
   "outputs": [],
   "source": []
  },
  {
   "cell_type": "markdown",
   "metadata": {},
   "source": [
    "### Find out the Least Expensive and Most Expensive Cities in the World"
   ]
  },
  {
   "cell_type": "code",
   "execution_count": null,
   "metadata": {},
   "outputs": [],
   "source": []
  }
 ],
 "metadata": {
  "kernelspec": {
   "display_name": "Python 3",
   "language": "python",
   "name": "python3"
  },
  "language_info": {
   "codemirror_mode": {
    "name": "ipython",
    "version": 3
   },
   "file_extension": ".py",
   "mimetype": "text/x-python",
   "name": "python",
   "nbconvert_exporter": "python",
   "pygments_lexer": "ipython3",
   "version": "3.6.8"
  }
 },
 "nbformat": 4,
 "nbformat_minor": 4
}
